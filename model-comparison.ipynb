{
 "cells": [
  {
   "cell_type": "code",
   "execution_count": null,
   "metadata": {},
   "outputs": [],
   "source": [
    "%load_ext autoreload\n",
    "%autoreload 2\n"
   ]
  },
  {
   "cell_type": "code",
   "execution_count": null,
   "metadata": {},
   "outputs": [],
   "source": [
    "config = {\n",
    "    # Preprocessing\n",
    "    \"min_combined_length\": 0,\n",
    "    \"to_lower\": True,\n",
    "    \"to_upper\": False,\n",
    "    \"remove_punctuation\": True,\n",
    "    \"remove_chinese\": True,\n",
    "    \"stem\": False,\n",
    "    \"only_4digit\": True,\n",
    "    \"only_exist\": True,\n",
    "    \n",
    "    # Data\n",
    "    \"add_isco88\": True,\n",
    "\n",
    "    # Embeddings\n",
    "    \"embeddings_engine\": \"fasttext\", # fasttext, bag_of_words\n",
    "\n",
    "    # Final Model\n",
    "    \"model\": \"knn\",  # knn, gradient_boosting, xgboost\n",
    "}\n"
   ]
  },
  {
   "cell_type": "code",
   "execution_count": null,
   "metadata": {},
   "outputs": [],
   "source": [
    "from workshop.data import load_and_preprocess_data \n",
    "\n",
    "df_prepped = load_and_preprocess_data(config=config)\n",
    "df_prepped"
   ]
  },
  {
   "cell_type": "markdown",
   "metadata": {},
   "source": [
    "# Subsetting (for quicker development)"
   ]
  },
  {
   "cell_type": "code",
   "execution_count": null,
   "metadata": {},
   "outputs": [],
   "source": [
    "from workshop.embedding import get_embeddings\n",
    "\n",
    "df_embeddings = get_embeddings(df_prepped, \"combined_text\", config=config)"
   ]
  },
  {
   "cell_type": "code",
   "execution_count": null,
   "metadata": {},
   "outputs": [],
   "source": [
    "df_embeddings"
   ]
  },
  {
   "cell_type": "markdown",
   "metadata": {},
   "source": [
    "# Modelling"
   ]
  },
  {
   "cell_type": "markdown",
   "metadata": {},
   "source": [
    "## Train-Test Split"
   ]
  },
  {
   "cell_type": "code",
   "execution_count": null,
   "metadata": {},
   "outputs": [],
   "source": [
    "from workshop.preprocessing_Asialymph import train_split\n",
    "\n",
    "target_colname = \"isco88\"\n",
    "text_colname = \"combined_text\"\n",
    "\n",
    "# Use everything except the target as features\n",
    "features = df_embeddings.copy()\n",
    "# Drop all columns except the target\n",
    "labels = df_prepped.copy()[target_colname]\n",
    "\n",
    "combined = df_embeddings\n",
    "combined[target_colname] = df_prepped[target_colname]\n",
    "combined[text_colname] = df_prepped[text_colname]\n",
    "\n",
    "combined_train, combined_test = train_split(combined)\n",
    "\n",
    "X_train = combined_train.drop(columns=[target_colname, text_colname])\n",
    "X_test = combined_test.drop(columns=[target_colname, text_colname])\n",
    "y_train = combined_train[target_colname]\n",
    "y_true = combined_test[target_colname]\n",
    "text_train = combined_train[text_colname]\n",
    "text_test = combined_test[text_colname]\n"
   ]
  },
  {
   "cell_type": "markdown",
   "metadata": {},
   "source": [
    "## Add additional data"
   ]
  },
  {
   "cell_type": "code",
   "execution_count": null,
   "metadata": {},
   "outputs": [],
   "source": [
    "from workshop.data import load_isco88_structure\n",
    "from workshop.embedding import get_embeddings\n",
    "\n",
    "# Augment training data with ISCO88 structure\n",
    "if config[\"add_isco88\"]:\n",
    "    isco_index = load_isco88_structure(config=config)\n",
    "    isco_index\n",
    "\n",
    "    isco_index_embeddings = get_embeddings(isco_index, \"occupations\", config=config)\n",
    "    isco_index_embeddings\n",
    "\n",
    "    X_train = pd.concat([X_train, isco_index_embeddings])\n",
    "    y_train = pd.concat([y_train, isco_index[\"isco88\"]])"
   ]
  },
  {
   "cell_type": "code",
   "execution_count": null,
   "metadata": {},
   "outputs": [],
   "source": [
    "print(\"Train\", X_train.shape)\n",
    "print(\"Test\", X_test.shape)"
   ]
  },
  {
   "cell_type": "markdown",
   "metadata": {},
   "source": [
    "## Model Fitting"
   ]
  },
  {
   "cell_type": "code",
   "execution_count": null,
   "metadata": {},
   "outputs": [],
   "source": [
    "from workshop.modelling import train_model, predict\n",
    "\n",
    "train_output = train_model(X_train, y_train, config=config)\n",
    "train_output[\"model\"]\n"
   ]
  },
  {
   "cell_type": "markdown",
   "metadata": {},
   "source": [
    "## Evaluation"
   ]
  },
  {
   "cell_type": "code",
   "execution_count": null,
   "metadata": {},
   "outputs": [],
   "source": [
    "from sklearn.metrics import accuracy_score, f1_score\n",
    "\n",
    "y_pred = predict(train_output, X_test, config=config)\n",
    "\n",
    "metrics = {\n",
    "    \"accuracy\": accuracy_score(y_true, y_pred),\n",
    "    \"f1\": f1_score(y_true, y_pred, average=\"weighted\"),\n",
    "}\n",
    "metrics"
   ]
  },
  {
   "cell_type": "code",
   "execution_count": null,
   "metadata": {},
   "outputs": [],
   "source": [
    "import pandas as pd\n",
    "from workshop.modelling import correct_at_digit\n",
    "\n",
    "df_eval = pd.DataFrame({\n",
    "    \"combined_text\": text_test,\n",
    "    \"isco88_true\": y_true,\n",
    "    \"isco88_pred\": y_pred,\n",
    "})  \n",
    "df_eval[\"correct_4\"] = df_eval[\"isco88_true\"] == df_eval[\"isco88_pred\"]\n",
    "df_eval[\"correct_3\"] = correct_at_digit(df_eval[\"isco88_pred\"], df_eval[\"isco88_true\"], 3)\n",
    "df_eval[\"correct_2\"] = correct_at_digit(df_eval[\"isco88_pred\"], df_eval[\"isco88_true\"], 2)\n",
    "df_eval[\"correct_1\"] = correct_at_digit(df_eval[\"isco88_pred\"], df_eval[\"isco88_true\"], 1)\n",
    "df_eval"
   ]
  },
  {
   "cell_type": "code",
   "execution_count": null,
   "metadata": {},
   "outputs": [],
   "source": [
    "correct_at_digits = {\n",
    "    \"4_digits\": df_eval[\"correct_4\"].mean(),\n",
    "    \"3_digits\": df_eval[\"correct_3\"].mean(),\n",
    "    \"2_digits\": df_eval[\"correct_2\"].mean(),\n",
    "    \"1_digits\": df_eval[\"correct_1\"].mean()\n",
    "}\n",
    "correct_at_digits\n"
   ]
  },
  {
   "cell_type": "code",
   "execution_count": null,
   "metadata": {},
   "outputs": [],
   "source": [
    "miscodings = df_eval[~df_eval[\"correct_4\"]]\n",
    "miscodings"
   ]
  },
  {
   "cell_type": "code",
   "execution_count": null,
   "metadata": {},
   "outputs": [],
   "source": []
  },
  {
   "cell_type": "code",
   "execution_count": null,
   "metadata": {},
   "outputs": [],
   "source": [
    "from workshop.data import load_and_preprocess_validation_data\n",
    "\n",
    "validation_data = load_and_preprocess_validation_data()\n",
    "validation_embeddings = get_embeddings(validation_data, \"combined_text\", config=config)\n",
    "\n",
    "y_pred_val = predict(train_output, validation_embeddings, config=config)\n",
    "\n",
    "metrics = {\n",
    "    \"accuracy\": accuracy_score(validation_data[\"isco88\"], y_pred_val),\n",
    "    \"f1\": f1_score(validation_data[\"isco88\"], y_pred_val, average=\"weighted\"),\n",
    "}\n",
    "metrics"
   ]
  },
  {
   "cell_type": "code",
   "execution_count": null,
   "metadata": {},
   "outputs": [],
   "source": []
  }
 ],
 "metadata": {
  "kernelspec": {
   "display_name": "lorentz-center-workshop-wo3Vg6Zx",
   "language": "python",
   "name": "python3"
  },
  "language_info": {
   "codemirror_mode": {
    "name": "ipython",
    "version": 3
   },
   "file_extension": ".py",
   "mimetype": "text/x-python",
   "name": "python",
   "nbconvert_exporter": "python",
   "pygments_lexer": "ipython3",
   "version": "3.10.12"
  }
 },
 "nbformat": 4,
 "nbformat_minor": 2
}
