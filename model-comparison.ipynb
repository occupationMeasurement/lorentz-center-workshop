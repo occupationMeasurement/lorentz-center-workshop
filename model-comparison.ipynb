{
 "cells": [
  {
   "cell_type": "code",
   "execution_count": null,
   "metadata": {},
   "outputs": [],
   "source": [
    "%load_ext autoreload\n",
    "%autoreload 2\n"
   ]
  },
  {
   "cell_type": "code",
   "execution_count": null,
   "metadata": {},
   "outputs": [],
   "source": [
    "config = {\n",
    "    # Preprocessing\n",
    "    \"min_combined_length\": 10,\n",
    "    \"to_lower\": True,\n",
    "    \"to_upper\": False,\n",
    "    \"remove_punctuation\": True,\n",
    "    \"remove_chinese\": True,\n",
    "    \"stem\": False,\n",
    "    \"only_4digit\": True,\n",
    "    \"only_exist\": True,\n",
    "\n",
    "    # Embeddings\n",
    "    \"embeddings_engine\": \"fasttext\",\n",
    "\n",
    "    # Final Model\n",
    "    \"model\": \"knn\",  # knn, gradient_boosting\n",
    "}\n"
   ]
  },
  {
   "cell_type": "code",
   "execution_count": null,
   "metadata": {},
   "outputs": [],
   "source": [
    "from workshop.data import load_and_preprocess_data \n",
    "\n",
    "df_prepped = load_and_preprocess_data(config=config)\n",
    "df_prepped"
   ]
  },
  {
   "cell_type": "markdown",
   "metadata": {},
   "source": [
    "# Subsetting (for quicker development)"
   ]
  },
  {
   "cell_type": "code",
   "execution_count": null,
   "metadata": {},
   "outputs": [],
   "source": [
    "from workshop.embedding import get_embeddings\n",
    "\n",
    "df_embeddings = get_embeddings(df_prepped)"
   ]
  },
  {
   "cell_type": "code",
   "execution_count": null,
   "metadata": {},
   "outputs": [],
   "source": [
    "df_embeddings"
   ]
  },
  {
   "cell_type": "markdown",
   "metadata": {},
   "source": [
    "# Modelling"
   ]
  },
  {
   "cell_type": "markdown",
   "metadata": {},
   "source": [
    "## Train-Test Split"
   ]
  },
  {
   "cell_type": "code",
   "execution_count": null,
   "metadata": {},
   "outputs": [],
   "source": [
    "from sklearn.model_selection import train_test_split\n",
    "\n",
    "target_colname = \"isco88\"\n",
    "\n",
    "# Use everything except the target as features\n",
    "features = df_embeddings.copy()\n",
    "# Drop all columns except the target\n",
    "labels = df_prepped.copy()[target_colname]\n",
    "\n",
    "(\n",
    "    X_train, X_test,\n",
    "    y_train, y_true,\n",
    "    text_train, text_test,\n",
    ") = train_test_split(\n",
    "    features,\n",
    "    labels,\n",
    "    df_prepped[\"combined_text\"],\n",
    "    test_size=0.2,\n",
    "    random_state=0,\n",
    ")"
   ]
  },
  {
   "cell_type": "markdown",
   "metadata": {},
   "source": [
    "## Model Fitting"
   ]
  },
  {
   "cell_type": "code",
   "execution_count": null,
   "metadata": {},
   "outputs": [],
   "source": [
    "from workshop.modelling import train_model, predict\n",
    "\n",
    "model = train_model(X_train, y_train)\n"
   ]
  },
  {
   "cell_type": "code",
   "execution_count": null,
   "metadata": {},
   "outputs": [],
   "source": [
    "y_pred = predict(model, X_test)"
   ]
  },
  {
   "cell_type": "markdown",
   "metadata": {},
   "source": [
    "## Evaluation"
   ]
  },
  {
   "cell_type": "code",
   "execution_count": null,
   "metadata": {},
   "outputs": [],
   "source": [
    "from sklearn.metrics import accuracy_score, f1_score\n",
    "\n",
    "y_pred = predict(model, X_test)\n",
    "\n",
    "metrics = {\n",
    "    \"accuracy\": accuracy_score(y_true, y_pred),\n",
    "    \"f1\": f1_score(y_true, y_pred, average=\"weighted\"),\n",
    "}\n",
    "metrics"
   ]
  },
  {
   "cell_type": "code",
   "execution_count": null,
   "metadata": {},
   "outputs": [],
   "source": [
    "import pandas as pd\n",
    "from workshop.modelling import correct_at_digit\n",
    "\n",
    "df_eval = pd.DataFrame({\n",
    "    \"combined_text\": text_test,\n",
    "    \"isco88_true\": y_true,\n",
    "    \"isco88_pred\": y_pred,\n",
    "})  \n",
    "df_eval[\"correct_4\"] = df_eval[\"isco88_true\"] == df_eval[\"isco88_pred\"]\n",
    "df_eval[\"correct_3\"] = correct_at_digit(df_eval[\"isco88_pred\"], df_eval[\"isco88_true\"], 3)\n",
    "df_eval[\"correct_2\"] = correct_at_digit(df_eval[\"isco88_pred\"], df_eval[\"isco88_true\"], 2)\n",
    "df_eval[\"correct_1\"] = correct_at_digit(df_eval[\"isco88_pred\"], df_eval[\"isco88_true\"], 1)\n",
    "df_eval"
   ]
  },
  {
   "cell_type": "code",
   "execution_count": null,
   "metadata": {},
   "outputs": [],
   "source": [
    "correct_at_digits = {\n",
    "    \"4_digits\": df_eval[\"correct_4\"].mean(),\n",
    "    \"3_digits\": df_eval[\"correct_3\"].mean(),\n",
    "    \"2_digits\": df_eval[\"correct_2\"].mean(),\n",
    "    \"1_digits\": df_eval[\"correct_1\"].mean()\n",
    "}\n",
    "correct_at_digits\n"
   ]
  },
  {
   "cell_type": "code",
   "execution_count": null,
   "metadata": {},
   "outputs": [],
   "source": [
    "miscodings = df_eval[~df_eval[\"correct_4\"]]\n",
    "miscodings"
   ]
  },
  {
   "cell_type": "code",
   "execution_count": null,
   "metadata": {},
   "outputs": [],
   "source": []
  }
 ],
 "metadata": {
  "kernelspec": {
   "display_name": "lorentz-center-workshop-wo3Vg6Zx",
   "language": "python",
   "name": "python3"
  },
  "language_info": {
   "codemirror_mode": {
    "name": "ipython",
    "version": 3
   },
   "file_extension": ".py",
   "mimetype": "text/x-python",
   "name": "python",
   "nbconvert_exporter": "python",
   "pygments_lexer": "ipython3",
   "version": "3.10.12"
  }
 },
 "nbformat": 4,
 "nbformat_minor": 2
}
