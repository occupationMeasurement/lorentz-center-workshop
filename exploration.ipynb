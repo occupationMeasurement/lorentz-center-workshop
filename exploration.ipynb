{
 "cells": [
  {
   "cell_type": "code",
   "execution_count": null,
   "metadata": {},
   "outputs": [],
   "source": [
    "%load_ext autoreload\n",
    "%autoreload 2\n"
   ]
  },
  {
   "cell_type": "code",
   "execution_count": null,
   "metadata": {},
   "outputs": [],
   "source": [
    "from workshop.data import load_data \n",
    "\n",
    "df = load_data()\n",
    "df"
   ]
  },
  {
   "cell_type": "code",
   "execution_count": null,
   "metadata": {},
   "outputs": [],
   "source": [
    "import pandas as pd\n",
    "from workshop.data import clean_freetext_col\n",
    "\n",
    "# clean_freetext_col(\n",
    "#     pd.Series([\n",
    "#         \"äöü\",\n",
    "#         \"abc\",\n",
    "#         \"!!asd2#ä+öü\",\n",
    "#         \"司機driver\",\n",
    "#     ])\n",
    "# )\n",
    "\n",
    "\n",
    "pd.Series([\n",
    "    \"I (may) want to keep.. punctuation!\",\n",
    "    \"äöü\",\n",
    "    \"!!asd2#ä+öü\",\n",
    "    \"司機driver\",\n",
    "]).str.replace('[^0-9a-zA-Z.,-/!()+ ]', '', regex=True)"
   ]
  },
  {
   "cell_type": "code",
   "execution_count": null,
   "metadata": {},
   "outputs": [],
   "source": []
  },
  {
   "cell_type": "code",
   "execution_count": null,
   "metadata": {},
   "outputs": [],
   "source": []
  }
 ],
 "metadata": {
  "kernelspec": {
   "display_name": "lorentz-center-workshop-wo3Vg6Zx",
   "language": "python",
   "name": "python3"
  },
  "language_info": {
   "codemirror_mode": {
    "name": "ipython",
    "version": 3
   },
   "file_extension": ".py",
   "mimetype": "text/x-python",
   "name": "python",
   "nbconvert_exporter": "python",
   "pygments_lexer": "ipython3",
   "version": "3.10.12"
  }
 },
 "nbformat": 4,
 "nbformat_minor": 2
}
